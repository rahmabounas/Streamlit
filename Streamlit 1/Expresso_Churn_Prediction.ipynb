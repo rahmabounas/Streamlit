{
 "cells": [
  {
   "cell_type": "markdown",
   "id": "835f8ebc",
   "metadata": {},
   "source": [
    "# 📊 Expresso Churn Prediction\n",
    "\n",
    "Working with Expresso's churn dataset from the Zindi Challenge.\n",
    "\n",
    "**Goal:** Predict customer churn based on user behavior.\n",
    "\n",
    "| Variable | Meaning |\n",
    "|:---|:---|\n",
    "| `user_id` | Client ID |\n",
    "| `REGION` | Client location |\n",
    "| `TENURE` | Duration in network |\n",
    "| `MONTANT` | Top-up amount |\n",
    "| `FREQUENCE_RECH` | Number of recharges |\n",
    "| `REVENUE` | Monthly revenue |\n",
    "| `ARPU_SEGMENT` | Average revenue (90 days / 3) |\n",
    "| `FREQUENCE` | Revenue events |\n",
    "| `DATA_VOLUME` | Data consumed |\n",
    "| `ON_NET` | On-net calls |\n",
    "| `ORANGE` | Calls to Orange |\n",
    "| `TIGO` | Calls to Tigo |\n",
    "| `ZONE1` | Calls to Zone 1 |\n",
    "| `ZONE2` | Calls to Zone 2 |\n",
    "| `MRG` | Subscribed to value-added services (VAS) |\n",
    "| `REGULARITY` | Active days (90 days) |\n",
    "| `TOP_PACK` | Most activated packs |\n",
    "| `FREQ_TOP_PACK` | Top pack activations |\n",
    "| `CHURN` | Target: Churn |\n",
    "\n",
    "---\n"
   ]
  },
  {
   "cell_type": "code",
   "execution_count": null,
   "id": "e8cff6c0",
   "metadata": {},
   "outputs": [],
   "source": [
    "# import libraries needed\n",
    "import "
   ]
  }
 ],
 "metadata": {
  "kernelspec": {
   "display_name": "Python 3",
   "language": "python",
   "name": "python3"
  },
  "language_info": {
   "name": "python",
   "version": "3.11.0"
  }
 },
 "nbformat": 4,
 "nbformat_minor": 5
}
